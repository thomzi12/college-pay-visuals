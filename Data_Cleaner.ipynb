{
 "cells": [
  {
   "cell_type": "code",
   "execution_count": 1,
   "metadata": {
    "collapsed": true
   },
   "outputs": [],
   "source": [
    "import pandas as pd"
   ]
  },
  {
   "cell_type": "code",
   "execution_count": 2,
   "metadata": {
    "collapsed": false
   },
   "outputs": [
    {
     "data": {
      "text/html": [
       "<div>\n",
       "<table border=\"1\" class=\"dataframe\">\n",
       "  <thead>\n",
       "    <tr style=\"text-align: right;\">\n",
       "      <th></th>\n",
       "      <th>﻿UNITID</th>\n",
       "      <th>OPEID</th>\n",
       "      <th>OPEID6</th>\n",
       "      <th>INSTNM</th>\n",
       "      <th>COUNT_ED</th>\n",
       "      <th>AGEGE24</th>\n",
       "      <th>PCT_WHITE</th>\n",
       "      <th>PCT_BLACK</th>\n",
       "      <th>PCT_ASIAN</th>\n",
       "      <th>PCT_HISPANIC</th>\n",
       "      <th>...</th>\n",
       "      <th>COMPL_RPY_3YR_RT_SUPP</th>\n",
       "      <th>NONCOM_RPY_3YR_RT_SUPP</th>\n",
       "      <th>DEP_RPY_3YR_RT_SUPP</th>\n",
       "      <th>IND_RPY_3YR_RT_SUPP</th>\n",
       "      <th>PELL_RPY_3YR_RT_SUPP</th>\n",
       "      <th>NOPELL_RPY_3YR_RT_SUPP</th>\n",
       "      <th>FEMALE_RPY_3YR_RT_SUPP</th>\n",
       "      <th>MALE_RPY_3YR_RT_SUPP</th>\n",
       "      <th>FIRSTGEN_RPY_3YR_RT_SUPP</th>\n",
       "      <th>NOTFIRSTGEN_RPY_3YR_RT_SUPP</th>\n",
       "    </tr>\n",
       "  </thead>\n",
       "  <tbody>\n",
       "    <tr>\n",
       "      <th>0</th>\n",
       "      <td>100654</td>\n",
       "      <td>100200</td>\n",
       "      <td>1002</td>\n",
       "      <td>Alabama A &amp; M University</td>\n",
       "      <td>1277</td>\n",
       "      <td>0.07999999821186</td>\n",
       "      <td>46.8400001525878</td>\n",
       "      <td>47.9799995422363</td>\n",
       "      <td>1.48000001907348</td>\n",
       "      <td>3.78999996185302</td>\n",
       "      <td>...</td>\n",
       "      <td>0.6030640669</td>\n",
       "      <td>0.3731263383</td>\n",
       "      <td>0.448960739</td>\n",
       "      <td>0.3752969121</td>\n",
       "      <td>0.4229704797</td>\n",
       "      <td>0.509569378</td>\n",
       "      <td>0.4624624625</td>\n",
       "      <td>0.4098883573</td>\n",
       "      <td>0.4119373777</td>\n",
       "      <td>0.4533248082</td>\n",
       "    </tr>\n",
       "    <tr>\n",
       "      <th>1</th>\n",
       "      <td>100663</td>\n",
       "      <td>105200</td>\n",
       "      <td>1052</td>\n",
       "      <td>University of Alabama at Birmingham</td>\n",
       "      <td>2831</td>\n",
       "      <td>0.25999999046325</td>\n",
       "      <td>69.0199966430664</td>\n",
       "      <td>27.7600002288818</td>\n",
       "      <td>1.10000002384185</td>\n",
       "      <td>2.02999997138977</td>\n",
       "      <td>...</td>\n",
       "      <td>0.8648785425</td>\n",
       "      <td>0.7227602906</td>\n",
       "      <td>0.7946185286</td>\n",
       "      <td>0.7687747036</td>\n",
       "      <td>0.7562804649</td>\n",
       "      <td>0.8298824846</td>\n",
       "      <td>0.7851182197</td>\n",
       "      <td>0.7870722433</td>\n",
       "      <td>0.7763401109</td>\n",
       "      <td>0.7912398446</td>\n",
       "    </tr>\n",
       "    <tr>\n",
       "      <th>2</th>\n",
       "      <td>100690</td>\n",
       "      <td>2503400</td>\n",
       "      <td>25034</td>\n",
       "      <td>Amridge University</td>\n",
       "      <td>191</td>\n",
       "      <td>0.82999998331069</td>\n",
       "      <td>70.8799972534179</td>\n",
       "      <td>22.5300006866455</td>\n",
       "      <td>1.28999996185302</td>\n",
       "      <td>6.94000005722046</td>\n",
       "      <td>...</td>\n",
       "      <td>0.6857142857</td>\n",
       "      <td>0.4984326019</td>\n",
       "      <td>PrivacySuppressed</td>\n",
       "      <td>0.532967033</td>\n",
       "      <td>0.4967948718</td>\n",
       "      <td>0.6753246753</td>\n",
       "      <td>0.447257384</td>\n",
       "      <td>0.6644736842</td>\n",
       "      <td>0.5235849057</td>\n",
       "      <td>0.5423728814</td>\n",
       "    </tr>\n",
       "    <tr>\n",
       "      <th>3</th>\n",
       "      <td>100706</td>\n",
       "      <td>105500</td>\n",
       "      <td>1055</td>\n",
       "      <td>University of Alabama in Huntsville</td>\n",
       "      <td>1361</td>\n",
       "      <td>0.28999999165534</td>\n",
       "      <td>76.3799972534179</td>\n",
       "      <td>18.9799995422363</td>\n",
       "      <td>1.41999995708465</td>\n",
       "      <td>2.54999995231628</td>\n",
       "      <td>...</td>\n",
       "      <td>0.9046673287</td>\n",
       "      <td>0.7386814932</td>\n",
       "      <td>0.8317890235</td>\n",
       "      <td>0.7809965238</td>\n",
       "      <td>0.7805222301</td>\n",
       "      <td>0.8657243816</td>\n",
       "      <td>0.800323363</td>\n",
       "      <td>0.8270165209</td>\n",
       "      <td>0.7962025316</td>\n",
       "      <td>0.8211382114</td>\n",
       "    </tr>\n",
       "    <tr>\n",
       "      <th>4</th>\n",
       "      <td>100724</td>\n",
       "      <td>100500</td>\n",
       "      <td>1005</td>\n",
       "      <td>Alabama State University</td>\n",
       "      <td>1609</td>\n",
       "      <td>0.10999999940395</td>\n",
       "      <td>42.6899986267089</td>\n",
       "      <td>52.3199996948242</td>\n",
       "      <td>1.40999996662139</td>\n",
       "      <td>4.09000015258789</td>\n",
       "      <td>...</td>\n",
       "      <td>0.4444444444</td>\n",
       "      <td>0.335916442</td>\n",
       "      <td>0.3409178558</td>\n",
       "      <td>0.3428030303</td>\n",
       "      <td>0.3310369833</td>\n",
       "      <td>0.4187327824</td>\n",
       "      <td>0.3724696356</td>\n",
       "      <td>0.3024425287</td>\n",
       "      <td>0.3335766423</td>\n",
       "      <td>0.3472301542</td>\n",
       "    </tr>\n",
       "  </tbody>\n",
       "</table>\n",
       "<p>5 rows × 106 columns</p>\n",
       "</div>"
      ],
      "text/plain": [
       "   ﻿UNITID    OPEID  OPEID6                               INSTNM COUNT_ED  \\\n",
       "0   100654   100200    1002             Alabama A & M University     1277   \n",
       "1   100663   105200    1052  University of Alabama at Birmingham     2831   \n",
       "2   100690  2503400   25034                   Amridge University      191   \n",
       "3   100706   105500    1055  University of Alabama in Huntsville     1361   \n",
       "4   100724   100500    1005             Alabama State University     1609   \n",
       "\n",
       "            AGEGE24         PCT_WHITE         PCT_BLACK         PCT_ASIAN  \\\n",
       "0  0.07999999821186  46.8400001525878  47.9799995422363  1.48000001907348   \n",
       "1  0.25999999046325  69.0199966430664  27.7600002288818  1.10000002384185   \n",
       "2  0.82999998331069  70.8799972534179  22.5300006866455  1.28999996185302   \n",
       "3  0.28999999165534  76.3799972534179  18.9799995422363  1.41999995708465   \n",
       "4  0.10999999940395  42.6899986267089  52.3199996948242  1.40999996662139   \n",
       "\n",
       "       PCT_HISPANIC             ...             COMPL_RPY_3YR_RT_SUPP  \\\n",
       "0  3.78999996185302             ...                      0.6030640669   \n",
       "1  2.02999997138977             ...                      0.8648785425   \n",
       "2  6.94000005722046             ...                      0.6857142857   \n",
       "3  2.54999995231628             ...                      0.9046673287   \n",
       "4  4.09000015258789             ...                      0.4444444444   \n",
       "\n",
       "  NONCOM_RPY_3YR_RT_SUPP DEP_RPY_3YR_RT_SUPP IND_RPY_3YR_RT_SUPP  \\\n",
       "0           0.3731263383         0.448960739        0.3752969121   \n",
       "1           0.7227602906        0.7946185286        0.7687747036   \n",
       "2           0.4984326019   PrivacySuppressed         0.532967033   \n",
       "3           0.7386814932        0.8317890235        0.7809965238   \n",
       "4            0.335916442        0.3409178558        0.3428030303   \n",
       "\n",
       "  PELL_RPY_3YR_RT_SUPP NOPELL_RPY_3YR_RT_SUPP FEMALE_RPY_3YR_RT_SUPP  \\\n",
       "0         0.4229704797            0.509569378           0.4624624625   \n",
       "1         0.7562804649           0.8298824846           0.7851182197   \n",
       "2         0.4967948718           0.6753246753            0.447257384   \n",
       "3         0.7805222301           0.8657243816            0.800323363   \n",
       "4         0.3310369833           0.4187327824           0.3724696356   \n",
       "\n",
       "  MALE_RPY_3YR_RT_SUPP FIRSTGEN_RPY_3YR_RT_SUPP NOTFIRSTGEN_RPY_3YR_RT_SUPP  \n",
       "0         0.4098883573             0.4119373777                0.4533248082  \n",
       "1         0.7870722433             0.7763401109                0.7912398446  \n",
       "2         0.6644736842             0.5235849057                0.5423728814  \n",
       "3         0.8270165209             0.7962025316                0.8211382114  \n",
       "4         0.3024425287             0.3335766423                0.3472301542  \n",
       "\n",
       "[5 rows x 106 columns]"
      ]
     },
     "execution_count": 2,
     "metadata": {},
     "output_type": "execute_result"
    }
   ],
   "source": [
    "data = pd.read_csv('college_data.csv')\n",
    "data.head()"
   ]
  },
  {
   "cell_type": "code",
   "execution_count": 5,
   "metadata": {
    "collapsed": true
   },
   "outputs": [],
   "source": [
    "# geo_data1 = pd.read_csv('geo_data/ValueLabels_11-7-2016---597.csv')\n",
    "geo_data2 = pd.read_csv('geo_data/Data_11-7-2016---597.csv')"
   ]
  },
  {
   "cell_type": "markdown",
   "metadata": {},
   "source": [
    "geo_data1 just has state abbreviation conversations. haha. "
   ]
  },
  {
   "cell_type": "code",
   "execution_count": 7,
   "metadata": {
    "collapsed": false,
    "scrolled": true
   },
   "outputs": [
    {
     "data": {
      "text/html": [
       "<div>\n",
       "<table border=\"1\" class=\"dataframe\">\n",
       "  <thead>\n",
       "    <tr style=\"text-align: right;\">\n",
       "      <th></th>\n",
       "      <th>UnitID</th>\n",
       "      <th>Institution Name</th>\n",
       "      <th>Latitude location of institution (HD2015)</th>\n",
       "      <th>Longitude location of institution (HD2015)</th>\n",
       "      <th>County name (HD2015)</th>\n",
       "      <th>ZIP code (HD2015)</th>\n",
       "      <th>City location of institution (HD2015)</th>\n",
       "      <th>State abbreviation (HD2015)</th>\n",
       "      <th>Institution (entity) name (HD2015)</th>\n",
       "      <th>Fips County code (HD2015)</th>\n",
       "      <th>Institution name alias (HD2015)</th>\n",
       "      <th>Unnamed: 11</th>\n",
       "    </tr>\n",
       "  </thead>\n",
       "  <tbody>\n",
       "    <tr>\n",
       "      <th>0</th>\n",
       "      <td>457590</td>\n",
       "      <td>A &amp; W Healthcare Educators</td>\n",
       "      <td>30.027500</td>\n",
       "      <td>-90.011931</td>\n",
       "      <td>Orleans Parish</td>\n",
       "      <td>70126</td>\n",
       "      <td>New Orleans</td>\n",
       "      <td>LA</td>\n",
       "      <td>A &amp; W Healthcare Educators</td>\n",
       "      <td>22071</td>\n",
       "      <td></td>\n",
       "      <td>NaN</td>\n",
       "    </tr>\n",
       "    <tr>\n",
       "      <th>1</th>\n",
       "      <td>177834</td>\n",
       "      <td>A T Still University of Health Sciences</td>\n",
       "      <td>40.193648</td>\n",
       "      <td>-92.589183</td>\n",
       "      <td>Adair County</td>\n",
       "      <td>63501</td>\n",
       "      <td>Kirksville</td>\n",
       "      <td>MO</td>\n",
       "      <td>A T Still University of Health Sciences</td>\n",
       "      <td>29001</td>\n",
       "      <td></td>\n",
       "      <td>NaN</td>\n",
       "    </tr>\n",
       "    <tr>\n",
       "      <th>2</th>\n",
       "      <td>180203</td>\n",
       "      <td>Aaniiih Nakoda College</td>\n",
       "      <td>48.533090</td>\n",
       "      <td>-108.783640</td>\n",
       "      <td>Blaine County</td>\n",
       "      <td>59526</td>\n",
       "      <td>Harlem</td>\n",
       "      <td>MT</td>\n",
       "      <td>Aaniiih Nakoda College</td>\n",
       "      <td>30005</td>\n",
       "      <td></td>\n",
       "      <td>NaN</td>\n",
       "    </tr>\n",
       "    <tr>\n",
       "      <th>3</th>\n",
       "      <td>161615</td>\n",
       "      <td>Aaron's Academy of Beauty</td>\n",
       "      <td>38.611356</td>\n",
       "      <td>-76.901993</td>\n",
       "      <td>Charles County</td>\n",
       "      <td>20602</td>\n",
       "      <td>Waldorf</td>\n",
       "      <td>MD</td>\n",
       "      <td>Aaron's Academy of Beauty</td>\n",
       "      <td>24017</td>\n",
       "      <td>Aaron's Beauty School</td>\n",
       "      <td>NaN</td>\n",
       "    </tr>\n",
       "    <tr>\n",
       "      <th>4</th>\n",
       "      <td>459523</td>\n",
       "      <td>ABC Beauty Academy</td>\n",
       "      <td>32.929810</td>\n",
       "      <td>-96.684271</td>\n",
       "      <td>Dallas County</td>\n",
       "      <td>75042</td>\n",
       "      <td>Garland</td>\n",
       "      <td>TX</td>\n",
       "      <td>ABC Beauty Academy</td>\n",
       "      <td>48113</td>\n",
       "      <td></td>\n",
       "      <td>NaN</td>\n",
       "    </tr>\n",
       "  </tbody>\n",
       "</table>\n",
       "</div>"
      ],
      "text/plain": [
       "   UnitID                         Institution Name  \\\n",
       "0  457590               A & W Healthcare Educators   \n",
       "1  177834  A T Still University of Health Sciences   \n",
       "2  180203                   Aaniiih Nakoda College   \n",
       "3  161615                Aaron's Academy of Beauty   \n",
       "4  459523                       ABC Beauty Academy   \n",
       "\n",
       "   Latitude location of institution (HD2015)  \\\n",
       "0                                  30.027500   \n",
       "1                                  40.193648   \n",
       "2                                  48.533090   \n",
       "3                                  38.611356   \n",
       "4                                  32.929810   \n",
       "\n",
       "   Longitude location of institution (HD2015) County name (HD2015)  \\\n",
       "0                                  -90.011931       Orleans Parish   \n",
       "1                                  -92.589183         Adair County   \n",
       "2                                 -108.783640        Blaine County   \n",
       "3                                  -76.901993       Charles County   \n",
       "4                                  -96.684271        Dallas County   \n",
       "\n",
       "  ZIP code (HD2015) City location of institution (HD2015)  \\\n",
       "0             70126                           New Orleans   \n",
       "1             63501                            Kirksville   \n",
       "2             59526                                Harlem   \n",
       "3             20602                               Waldorf   \n",
       "4             75042                               Garland   \n",
       "\n",
       "  State abbreviation (HD2015)       Institution (entity) name (HD2015)  \\\n",
       "0                          LA               A & W Healthcare Educators   \n",
       "1                          MO  A T Still University of Health Sciences   \n",
       "2                          MT                   Aaniiih Nakoda College   \n",
       "3                          MD                Aaron's Academy of Beauty   \n",
       "4                          TX                       ABC Beauty Academy   \n",
       "\n",
       "   Fips County code (HD2015) Institution name alias (HD2015)  Unnamed: 11  \n",
       "0                      22071                                          NaN  \n",
       "1                      29001                                          NaN  \n",
       "2                      30005                                          NaN  \n",
       "3                      24017           Aaron's Beauty School          NaN  \n",
       "4                      48113                                          NaN  "
      ]
     },
     "execution_count": 7,
     "metadata": {},
     "output_type": "execute_result"
    }
   ],
   "source": [
    "geo_data2.head()"
   ]
  },
  {
   "cell_type": "markdown",
   "metadata": {},
   "source": [
    "## Merge Geo and Pay Data"
   ]
  },
  {
   "cell_type": "code",
   "execution_count": 8,
   "metadata": {
    "collapsed": false
   },
   "outputs": [
    {
     "data": {
      "text/plain": [
       "array(['UnitID', 'Institution Name',\n",
       "       'Latitude location of institution (HD2015)',\n",
       "       'Longitude location of institution (HD2015)',\n",
       "       'County name (HD2015)', 'ZIP code (HD2015)',\n",
       "       'City location of institution (HD2015)',\n",
       "       'State abbreviation (HD2015)', 'Institution (entity) name (HD2015)',\n",
       "       'Fips County code (HD2015)', 'Institution name alias (HD2015)',\n",
       "       'Unnamed: 11'], dtype=object)"
      ]
     },
     "execution_count": 8,
     "metadata": {},
     "output_type": "execute_result"
    }
   ],
   "source": [
    "geo_data2.columns.values"
   ]
  },
  {
   "cell_type": "code",
   "execution_count": 4,
   "metadata": {
    "collapsed": false
   },
   "outputs": [
    {
     "data": {
      "text/plain": [
       "array(['\\xef\\xbb\\xbfUNITID', 'OPEID', 'OPEID6', 'INSTNM', 'COUNT_ED',\n",
       "       'AGEGE24', 'PCT_WHITE', 'PCT_BLACK', 'PCT_ASIAN', 'PCT_HISPANIC',\n",
       "       'PCT_BA', 'PCT_GRAD_PROF', 'PCT_BORN_US', 'MEDIAN_HH_INC',\n",
       "       'POVERTY_RATE', 'UNEMP_RATE', 'LN_MEDIAN_HH_INC', 'COUNT_NWNE_P10',\n",
       "       'COUNT_WNE_P10', 'MN_EARN_WNE_P10', 'MD_EARN_WNE_P10',\n",
       "       'PCT10_EARN_WNE_P10', 'PCT25_EARN_WNE_P10', 'PCT75_EARN_WNE_P10',\n",
       "       'PCT90_EARN_WNE_P10', 'SD_EARN_WNE_P10', 'COUNT_WNE_INC1_P10',\n",
       "       'COUNT_WNE_INC2_P10', 'COUNT_WNE_INC3_P10',\n",
       "       'COUNT_WNE_INDEP0_INC1_P10', 'COUNT_WNE_INDEP0_P10',\n",
       "       'COUNT_WNE_INDEP1_P10', 'COUNT_WNE_MALE0_P10',\n",
       "       'COUNT_WNE_MALE1_P10', 'GT_25K_P10', 'MN_EARN_WNE_INC1_P10',\n",
       "       'MN_EARN_WNE_INC2_P10', 'MN_EARN_WNE_INC3_P10',\n",
       "       'MN_EARN_WNE_INDEP0_INC1_P10', 'MN_EARN_WNE_INDEP0_P10',\n",
       "       'MN_EARN_WNE_INDEP1_P10', 'MN_EARN_WNE_MALE0_P10',\n",
       "       'MN_EARN_WNE_MALE1_P10', 'COUNT_NWNE_P6', 'COUNT_WNE_P6',\n",
       "       'MN_EARN_WNE_P6', 'MD_EARN_WNE_P6', 'PCT10_EARN_WNE_P6',\n",
       "       'PCT25_EARN_WNE_P6', 'PCT75_EARN_WNE_P6', 'PCT90_EARN_WNE_P6',\n",
       "       'SD_EARN_WNE_P6', 'COUNT_WNE_INC1_P6', 'COUNT_WNE_INC2_P6',\n",
       "       'COUNT_WNE_INC3_P6', 'COUNT_WNE_INDEP0_INC1_P6',\n",
       "       'COUNT_WNE_INDEP0_P6', 'COUNT_WNE_INDEP1_P6', 'COUNT_WNE_MALE0_P6',\n",
       "       'COUNT_WNE_MALE1_P6', 'GT_25K_P6', 'MN_EARN_WNE_INC1_P6',\n",
       "       'MN_EARN_WNE_INC2_P6', 'MN_EARN_WNE_INC3_P6',\n",
       "       'MN_EARN_WNE_INDEP0_INC1_P6', 'MN_EARN_WNE_INDEP0_P6',\n",
       "       'MN_EARN_WNE_INDEP1_P6', 'MN_EARN_WNE_MALE0_P6',\n",
       "       'MN_EARN_WNE_MALE1_P6', 'COUNT_NWNE_P7', 'COUNT_WNE_P7',\n",
       "       'MN_EARN_WNE_P7', 'SD_EARN_WNE_P7', 'GT_25K_P7', 'COUNT_NWNE_P8',\n",
       "       'COUNT_WNE_P8', 'MN_EARN_WNE_P8', 'MD_EARN_WNE_P8',\n",
       "       'PCT10_EARN_WNE_P8', 'PCT25_EARN_WNE_P8', 'PCT75_EARN_WNE_P8',\n",
       "       'PCT90_EARN_WNE_P8', 'SD_EARN_WNE_P8', 'GT_25K_P8', 'COUNT_NWNE_P9',\n",
       "       'COUNT_WNE_P9', 'MN_EARN_WNE_P9', 'SD_EARN_WNE_P9', 'GT_25K_P9',\n",
       "       'DEBT_MDN_SUPP', 'GRAD_DEBT_MDN_SUPP', 'GRAD_DEBT_MDN10YR_SUPP',\n",
       "       'RPY_3YR_RT_SUPP', 'LO_INC_RPY_3YR_RT_SUPP',\n",
       "       'MD_INC_RPY_3YR_RT_SUPP', 'HI_INC_RPY_3YR_RT_SUPP',\n",
       "       'COMPL_RPY_3YR_RT_SUPP', 'NONCOM_RPY_3YR_RT_SUPP',\n",
       "       'DEP_RPY_3YR_RT_SUPP', 'IND_RPY_3YR_RT_SUPP',\n",
       "       'PELL_RPY_3YR_RT_SUPP', 'NOPELL_RPY_3YR_RT_SUPP',\n",
       "       'FEMALE_RPY_3YR_RT_SUPP', 'MALE_RPY_3YR_RT_SUPP',\n",
       "       'FIRSTGEN_RPY_3YR_RT_SUPP', 'NOTFIRSTGEN_RPY_3YR_RT_SUPP'], dtype=object)"
      ]
     },
     "execution_count": 4,
     "metadata": {},
     "output_type": "execute_result"
    }
   ],
   "source": [
    "data.columns.values"
   ]
  },
  {
   "cell_type": "code",
   "execution_count": 14,
   "metadata": {
    "collapsed": false
   },
   "outputs": [],
   "source": [
    "# rename index column \n",
    "data = data.rename(columns={'\\xef\\xbb\\xbfUNITID': 'UNITID'})\n",
    "geo_data2 = geo_data2.rename(columns={'UnitID': 'UNITID'})"
   ]
  },
  {
   "cell_type": "code",
   "execution_count": 15,
   "metadata": {
    "collapsed": false
   },
   "outputs": [
    {
     "name": "stdout",
     "output_type": "stream",
     "text": [
      "(7703, 106)\n",
      "(7647, 12)\n"
     ]
    }
   ],
   "source": [
    "print data.shape\n",
    "print geo_data2.shape"
   ]
  },
  {
   "cell_type": "code",
   "execution_count": 53,
   "metadata": {
    "collapsed": false
   },
   "outputs": [],
   "source": [
    "df = pd.merge(data, geo_data2, on = 'UNITID', how = 'inner')"
   ]
  },
  {
   "cell_type": "code",
   "execution_count": 54,
   "metadata": {
    "collapsed": false
   },
   "outputs": [
    {
     "data": {
      "text/plain": [
       "(7282, 117)"
      ]
     },
     "execution_count": 54,
     "metadata": {},
     "output_type": "execute_result"
    }
   ],
   "source": [
    "df.shape"
   ]
  },
  {
   "cell_type": "code",
   "execution_count": 18,
   "metadata": {
    "collapsed": false
   },
   "outputs": [
    {
     "data": {
      "text/html": [
       "<div>\n",
       "<table border=\"1\" class=\"dataframe\">\n",
       "  <thead>\n",
       "    <tr style=\"text-align: right;\">\n",
       "      <th></th>\n",
       "      <th>UNITID</th>\n",
       "      <th>OPEID</th>\n",
       "      <th>OPEID6</th>\n",
       "      <th>INSTNM</th>\n",
       "      <th>COUNT_ED</th>\n",
       "      <th>AGEGE24</th>\n",
       "      <th>PCT_WHITE</th>\n",
       "      <th>PCT_BLACK</th>\n",
       "      <th>PCT_ASIAN</th>\n",
       "      <th>PCT_HISPANIC</th>\n",
       "      <th>...</th>\n",
       "      <th>Latitude location of institution (HD2015)</th>\n",
       "      <th>Longitude location of institution (HD2015)</th>\n",
       "      <th>County name (HD2015)</th>\n",
       "      <th>ZIP code (HD2015)</th>\n",
       "      <th>City location of institution (HD2015)</th>\n",
       "      <th>State abbreviation (HD2015)</th>\n",
       "      <th>Institution (entity) name (HD2015)</th>\n",
       "      <th>Fips County code (HD2015)</th>\n",
       "      <th>Institution name alias (HD2015)</th>\n",
       "      <th>Unnamed: 11</th>\n",
       "    </tr>\n",
       "  </thead>\n",
       "  <tbody>\n",
       "    <tr>\n",
       "      <th>0</th>\n",
       "      <td>100654</td>\n",
       "      <td>100200</td>\n",
       "      <td>1002</td>\n",
       "      <td>Alabama A &amp; M University</td>\n",
       "      <td>1277</td>\n",
       "      <td>0.07999999821186</td>\n",
       "      <td>46.8400001525878</td>\n",
       "      <td>47.9799995422363</td>\n",
       "      <td>1.48000001907348</td>\n",
       "      <td>3.78999996185302</td>\n",
       "      <td>...</td>\n",
       "      <td>34.783368</td>\n",
       "      <td>-86.568502</td>\n",
       "      <td>Madison County</td>\n",
       "      <td>35762</td>\n",
       "      <td>Normal</td>\n",
       "      <td>AL</td>\n",
       "      <td>Alabama A &amp; M University</td>\n",
       "      <td>1089</td>\n",
       "      <td>AAMU</td>\n",
       "      <td>NaN</td>\n",
       "    </tr>\n",
       "    <tr>\n",
       "      <th>1</th>\n",
       "      <td>100663</td>\n",
       "      <td>105200</td>\n",
       "      <td>1052</td>\n",
       "      <td>University of Alabama at Birmingham</td>\n",
       "      <td>2831</td>\n",
       "      <td>0.25999999046325</td>\n",
       "      <td>69.0199966430664</td>\n",
       "      <td>27.7600002288818</td>\n",
       "      <td>1.10000002384185</td>\n",
       "      <td>2.02999997138977</td>\n",
       "      <td>...</td>\n",
       "      <td>33.502230</td>\n",
       "      <td>-86.809170</td>\n",
       "      <td>Jefferson County</td>\n",
       "      <td>35294-0110</td>\n",
       "      <td>Birmingham</td>\n",
       "      <td>AL</td>\n",
       "      <td>University of Alabama at Birmingham</td>\n",
       "      <td>1073</td>\n",
       "      <td></td>\n",
       "      <td>NaN</td>\n",
       "    </tr>\n",
       "    <tr>\n",
       "      <th>2</th>\n",
       "      <td>100690</td>\n",
       "      <td>2503400</td>\n",
       "      <td>25034</td>\n",
       "      <td>Amridge University</td>\n",
       "      <td>191</td>\n",
       "      <td>0.82999998331069</td>\n",
       "      <td>70.8799972534179</td>\n",
       "      <td>22.5300006866455</td>\n",
       "      <td>1.28999996185302</td>\n",
       "      <td>6.94000005722046</td>\n",
       "      <td>...</td>\n",
       "      <td>32.362609</td>\n",
       "      <td>-86.174010</td>\n",
       "      <td>Montgomery County</td>\n",
       "      <td>36117-3553</td>\n",
       "      <td>Montgomery</td>\n",
       "      <td>AL</td>\n",
       "      <td>Amridge University</td>\n",
       "      <td>1101</td>\n",
       "      <td>Southern Christian University |Regions University</td>\n",
       "      <td>NaN</td>\n",
       "    </tr>\n",
       "    <tr>\n",
       "      <th>3</th>\n",
       "      <td>100706</td>\n",
       "      <td>105500</td>\n",
       "      <td>1055</td>\n",
       "      <td>University of Alabama in Huntsville</td>\n",
       "      <td>1361</td>\n",
       "      <td>0.28999999165534</td>\n",
       "      <td>76.3799972534179</td>\n",
       "      <td>18.9799995422363</td>\n",
       "      <td>1.41999995708465</td>\n",
       "      <td>2.54999995231628</td>\n",
       "      <td>...</td>\n",
       "      <td>34.722818</td>\n",
       "      <td>-86.638420</td>\n",
       "      <td>Madison County</td>\n",
       "      <td>35899</td>\n",
       "      <td>Huntsville</td>\n",
       "      <td>AL</td>\n",
       "      <td>University of Alabama in Huntsville</td>\n",
       "      <td>1089</td>\n",
       "      <td>UAH |University of Alabama Huntsville</td>\n",
       "      <td>NaN</td>\n",
       "    </tr>\n",
       "    <tr>\n",
       "      <th>4</th>\n",
       "      <td>100724</td>\n",
       "      <td>100500</td>\n",
       "      <td>1005</td>\n",
       "      <td>Alabama State University</td>\n",
       "      <td>1609</td>\n",
       "      <td>0.10999999940395</td>\n",
       "      <td>42.6899986267089</td>\n",
       "      <td>52.3199996948242</td>\n",
       "      <td>1.40999996662139</td>\n",
       "      <td>4.09000015258789</td>\n",
       "      <td>...</td>\n",
       "      <td>32.364317</td>\n",
       "      <td>-86.295677</td>\n",
       "      <td>Montgomery County</td>\n",
       "      <td>36104-0271</td>\n",
       "      <td>Montgomery</td>\n",
       "      <td>AL</td>\n",
       "      <td>Alabama State University</td>\n",
       "      <td>1101</td>\n",
       "      <td></td>\n",
       "      <td>NaN</td>\n",
       "    </tr>\n",
       "  </tbody>\n",
       "</table>\n",
       "<p>5 rows × 117 columns</p>\n",
       "</div>"
      ],
      "text/plain": [
       "   UNITID    OPEID  OPEID6                               INSTNM COUNT_ED  \\\n",
       "0  100654   100200    1002             Alabama A & M University     1277   \n",
       "1  100663   105200    1052  University of Alabama at Birmingham     2831   \n",
       "2  100690  2503400   25034                   Amridge University      191   \n",
       "3  100706   105500    1055  University of Alabama in Huntsville     1361   \n",
       "4  100724   100500    1005             Alabama State University     1609   \n",
       "\n",
       "            AGEGE24         PCT_WHITE         PCT_BLACK         PCT_ASIAN  \\\n",
       "0  0.07999999821186  46.8400001525878  47.9799995422363  1.48000001907348   \n",
       "1  0.25999999046325  69.0199966430664  27.7600002288818  1.10000002384185   \n",
       "2  0.82999998331069  70.8799972534179  22.5300006866455  1.28999996185302   \n",
       "3  0.28999999165534  76.3799972534179  18.9799995422363  1.41999995708465   \n",
       "4  0.10999999940395  42.6899986267089  52.3199996948242  1.40999996662139   \n",
       "\n",
       "       PCT_HISPANIC     ...     Latitude location of institution (HD2015)  \\\n",
       "0  3.78999996185302     ...                                     34.783368   \n",
       "1  2.02999997138977     ...                                     33.502230   \n",
       "2  6.94000005722046     ...                                     32.362609   \n",
       "3  2.54999995231628     ...                                     34.722818   \n",
       "4  4.09000015258789     ...                                     32.364317   \n",
       "\n",
       "  Longitude location of institution (HD2015) County name (HD2015)  \\\n",
       "0                                 -86.568502       Madison County   \n",
       "1                                 -86.809170     Jefferson County   \n",
       "2                                 -86.174010    Montgomery County   \n",
       "3                                 -86.638420       Madison County   \n",
       "4                                 -86.295677    Montgomery County   \n",
       "\n",
       "  ZIP code (HD2015) City location of institution (HD2015)  \\\n",
       "0             35762                                Normal   \n",
       "1        35294-0110                            Birmingham   \n",
       "2        36117-3553                            Montgomery   \n",
       "3             35899                            Huntsville   \n",
       "4        36104-0271                            Montgomery   \n",
       "\n",
       "  State abbreviation (HD2015)   Institution (entity) name (HD2015)  \\\n",
       "0                          AL             Alabama A & M University   \n",
       "1                          AL  University of Alabama at Birmingham   \n",
       "2                          AL                   Amridge University   \n",
       "3                          AL  University of Alabama in Huntsville   \n",
       "4                          AL             Alabama State University   \n",
       "\n",
       "  Fips County code (HD2015)  \\\n",
       "0                      1089   \n",
       "1                      1073   \n",
       "2                      1101   \n",
       "3                      1089   \n",
       "4                      1101   \n",
       "\n",
       "                     Institution name alias (HD2015) Unnamed: 11  \n",
       "0                                               AAMU         NaN  \n",
       "1                                                            NaN  \n",
       "2  Southern Christian University |Regions University         NaN  \n",
       "3              UAH |University of Alabama Huntsville         NaN  \n",
       "4                                                            NaN  \n",
       "\n",
       "[5 rows x 117 columns]"
      ]
     },
     "execution_count": 18,
     "metadata": {},
     "output_type": "execute_result"
    }
   ],
   "source": [
    "df.head()"
   ]
  },
  {
   "cell_type": "code",
   "execution_count": 19,
   "metadata": {
    "collapsed": false
   },
   "outputs": [
    {
     "data": {
      "text/plain": [
       "array(['UNITID', 'OPEID', 'OPEID6', 'INSTNM', 'COUNT_ED', 'AGEGE24',\n",
       "       'PCT_WHITE', 'PCT_BLACK', 'PCT_ASIAN', 'PCT_HISPANIC', 'PCT_BA',\n",
       "       'PCT_GRAD_PROF', 'PCT_BORN_US', 'MEDIAN_HH_INC', 'POVERTY_RATE',\n",
       "       'UNEMP_RATE', 'LN_MEDIAN_HH_INC', 'COUNT_NWNE_P10', 'COUNT_WNE_P10',\n",
       "       'MN_EARN_WNE_P10', 'MD_EARN_WNE_P10', 'PCT10_EARN_WNE_P10',\n",
       "       'PCT25_EARN_WNE_P10', 'PCT75_EARN_WNE_P10', 'PCT90_EARN_WNE_P10',\n",
       "       'SD_EARN_WNE_P10', 'COUNT_WNE_INC1_P10', 'COUNT_WNE_INC2_P10',\n",
       "       'COUNT_WNE_INC3_P10', 'COUNT_WNE_INDEP0_INC1_P10',\n",
       "       'COUNT_WNE_INDEP0_P10', 'COUNT_WNE_INDEP1_P10',\n",
       "       'COUNT_WNE_MALE0_P10', 'COUNT_WNE_MALE1_P10', 'GT_25K_P10',\n",
       "       'MN_EARN_WNE_INC1_P10', 'MN_EARN_WNE_INC2_P10',\n",
       "       'MN_EARN_WNE_INC3_P10', 'MN_EARN_WNE_INDEP0_INC1_P10',\n",
       "       'MN_EARN_WNE_INDEP0_P10', 'MN_EARN_WNE_INDEP1_P10',\n",
       "       'MN_EARN_WNE_MALE0_P10', 'MN_EARN_WNE_MALE1_P10', 'COUNT_NWNE_P6',\n",
       "       'COUNT_WNE_P6', 'MN_EARN_WNE_P6', 'MD_EARN_WNE_P6',\n",
       "       'PCT10_EARN_WNE_P6', 'PCT25_EARN_WNE_P6', 'PCT75_EARN_WNE_P6',\n",
       "       'PCT90_EARN_WNE_P6', 'SD_EARN_WNE_P6', 'COUNT_WNE_INC1_P6',\n",
       "       'COUNT_WNE_INC2_P6', 'COUNT_WNE_INC3_P6',\n",
       "       'COUNT_WNE_INDEP0_INC1_P6', 'COUNT_WNE_INDEP0_P6',\n",
       "       'COUNT_WNE_INDEP1_P6', 'COUNT_WNE_MALE0_P6', 'COUNT_WNE_MALE1_P6',\n",
       "       'GT_25K_P6', 'MN_EARN_WNE_INC1_P6', 'MN_EARN_WNE_INC2_P6',\n",
       "       'MN_EARN_WNE_INC3_P6', 'MN_EARN_WNE_INDEP0_INC1_P6',\n",
       "       'MN_EARN_WNE_INDEP0_P6', 'MN_EARN_WNE_INDEP1_P6',\n",
       "       'MN_EARN_WNE_MALE0_P6', 'MN_EARN_WNE_MALE1_P6', 'COUNT_NWNE_P7',\n",
       "       'COUNT_WNE_P7', 'MN_EARN_WNE_P7', 'SD_EARN_WNE_P7', 'GT_25K_P7',\n",
       "       'COUNT_NWNE_P8', 'COUNT_WNE_P8', 'MN_EARN_WNE_P8', 'MD_EARN_WNE_P8',\n",
       "       'PCT10_EARN_WNE_P8', 'PCT25_EARN_WNE_P8', 'PCT75_EARN_WNE_P8',\n",
       "       'PCT90_EARN_WNE_P8', 'SD_EARN_WNE_P8', 'GT_25K_P8', 'COUNT_NWNE_P9',\n",
       "       'COUNT_WNE_P9', 'MN_EARN_WNE_P9', 'SD_EARN_WNE_P9', 'GT_25K_P9',\n",
       "       'DEBT_MDN_SUPP', 'GRAD_DEBT_MDN_SUPP', 'GRAD_DEBT_MDN10YR_SUPP',\n",
       "       'RPY_3YR_RT_SUPP', 'LO_INC_RPY_3YR_RT_SUPP',\n",
       "       'MD_INC_RPY_3YR_RT_SUPP', 'HI_INC_RPY_3YR_RT_SUPP',\n",
       "       'COMPL_RPY_3YR_RT_SUPP', 'NONCOM_RPY_3YR_RT_SUPP',\n",
       "       'DEP_RPY_3YR_RT_SUPP', 'IND_RPY_3YR_RT_SUPP',\n",
       "       'PELL_RPY_3YR_RT_SUPP', 'NOPELL_RPY_3YR_RT_SUPP',\n",
       "       'FEMALE_RPY_3YR_RT_SUPP', 'MALE_RPY_3YR_RT_SUPP',\n",
       "       'FIRSTGEN_RPY_3YR_RT_SUPP', 'NOTFIRSTGEN_RPY_3YR_RT_SUPP',\n",
       "       'Institution Name', 'Latitude location of institution (HD2015)',\n",
       "       'Longitude location of institution (HD2015)',\n",
       "       'County name (HD2015)', 'ZIP code (HD2015)',\n",
       "       'City location of institution (HD2015)',\n",
       "       'State abbreviation (HD2015)', 'Institution (entity) name (HD2015)',\n",
       "       'Fips County code (HD2015)', 'Institution name alias (HD2015)',\n",
       "       'Unnamed: 11'], dtype=object)"
      ]
     },
     "execution_count": 19,
     "metadata": {},
     "output_type": "execute_result"
    }
   ],
   "source": [
    "df.columns.values"
   ]
  },
  {
   "cell_type": "markdown",
   "metadata": {},
   "source": [
    "## Interpreting Columns \n",
    "Some relevant columns and definitions: \n",
    "MN_EARN_WNE_P10: Mean earnings of students working and not enrolled 10 years after entry\n",
    "MN_EARN_WNE_MALE1_P10: Mean earnings of male students working and not enrolled 10 years after entry\n",
    "MN_EARN_WNE_MALE0_P10: Mean earnings of female students working and not enrolled 10 years after entry"
   ]
  },
  {
   "cell_type": "code",
   "execution_count": 57,
   "metadata": {
    "collapsed": false
   },
   "outputs": [
    {
     "data": {
      "text/plain": [
       "1081"
      ]
     },
     "execution_count": 57,
     "metadata": {},
     "output_type": "execute_result"
    }
   ],
   "source": [
    "#Hmm, we'll have to take care of these missing values ... \n",
    "print df.MN_EARN_WNE_MALE0_P10.isnull().sum()"
   ]
  },
  {
   "cell_type": "code",
   "execution_count": 58,
   "metadata": {
    "collapsed": true
   },
   "outputs": [],
   "source": [
    "df = df[~df.MN_EARN_WNE_MALE0_P10.isnull()]\n",
    "df = df[~df.MN_EARN_WNE_MALE1_P10.isnull()]"
   ]
  },
  {
   "cell_type": "code",
   "execution_count": 59,
   "metadata": {
    "collapsed": false
   },
   "outputs": [
    {
     "name": "stdout",
     "output_type": "stream",
     "text": [
      "0\n",
      "0\n"
     ]
    }
   ],
   "source": [
    "print df.MN_EARN_WNE_MALE0_P10.isnull().sum() #0\n",
    "print df.MN_EARN_WNE_MALE1_P10.isnull().sum() #0"
   ]
  },
  {
   "cell_type": "code",
   "execution_count": 61,
   "metadata": {
    "collapsed": false
   },
   "outputs": [
    {
     "data": {
      "text/plain": [
       "(6201, 117)"
      ]
     },
     "execution_count": 61,
     "metadata": {},
     "output_type": "execute_result"
    }
   ],
   "source": [
    "df.shape"
   ]
  },
  {
   "cell_type": "code",
   "execution_count": 62,
   "metadata": {
    "collapsed": false
   },
   "outputs": [],
   "source": [
    "# Also get rid of 'privacy surpressed' values \n",
    "df = df[df.MN_EARN_WNE_MALE1_P10.apply(lambda x: x.isdigit()) & df.MN_EARN_WNE_MALE0_P10.apply(lambda x: x.isdigit())]"
   ]
  },
  {
   "cell_type": "code",
   "execution_count": 68,
   "metadata": {
    "collapsed": false
   },
   "outputs": [
    {
     "name": "stdout",
     "output_type": "stream",
     "text": [
      "0    36300\n",
      "1    54500\n",
      "2    53900\n",
      "3    58300\n",
      "4    29900\n",
      "Name: MN_EARN_WNE_MALE1_P10, dtype: int64\n",
      "0    33600\n",
      "1    41400\n",
      "2    34600\n",
      "3    43400\n",
      "4    29000\n",
      "Name: MN_EARN_WNE_MALE0_P10, dtype: int64\n"
     ]
    }
   ],
   "source": [
    "print df.MN_EARN_WNE_MALE1_P10.head()\n",
    "print df.MN_EARN_WNE_MALE0_P10.head()\n"
   ]
  },
  {
   "cell_type": "code",
   "execution_count": 63,
   "metadata": {
    "collapsed": false
   },
   "outputs": [
    {
     "data": {
      "text/plain": [
       "(3895, 117)"
      ]
     },
     "execution_count": 63,
     "metadata": {},
     "output_type": "execute_result"
    }
   ],
   "source": [
    "df.shape"
   ]
  },
  {
   "cell_type": "code",
   "execution_count": 64,
   "metadata": {
    "collapsed": true
   },
   "outputs": [],
   "source": [
    "df['MN_EARN_WNE_MALE1_P10'] = df['MN_EARN_WNE_MALE1_P10'].astype(int)"
   ]
  },
  {
   "cell_type": "code",
   "execution_count": 65,
   "metadata": {
    "collapsed": true
   },
   "outputs": [],
   "source": [
    "df['MN_EARN_WNE_MALE0_P10'] = df['MN_EARN_WNE_MALE0_P10'].astype(int)"
   ]
  },
  {
   "cell_type": "code",
   "execution_count": 69,
   "metadata": {
    "collapsed": false
   },
   "outputs": [
    {
     "data": {
      "text/html": [
       "<div>\n",
       "<table border=\"1\" class=\"dataframe\">\n",
       "  <thead>\n",
       "    <tr style=\"text-align: right;\">\n",
       "      <th></th>\n",
       "      <th>MN_EARN_WNE_MALE1_P10</th>\n",
       "      <th>MN_EARN_WNE_MALE0_P10</th>\n",
       "    </tr>\n",
       "  </thead>\n",
       "  <tbody>\n",
       "    <tr>\n",
       "      <th>count</th>\n",
       "      <td>3895.000000</td>\n",
       "      <td>3895.000000</td>\n",
       "    </tr>\n",
       "    <tr>\n",
       "      <th>mean</th>\n",
       "      <td>45008.600770</td>\n",
       "      <td>34744.852375</td>\n",
       "    </tr>\n",
       "    <tr>\n",
       "      <th>std</th>\n",
       "      <td>17419.326723</td>\n",
       "      <td>12429.402843</td>\n",
       "    </tr>\n",
       "    <tr>\n",
       "      <th>min</th>\n",
       "      <td>17900.000000</td>\n",
       "      <td>12400.000000</td>\n",
       "    </tr>\n",
       "    <tr>\n",
       "      <th>25%</th>\n",
       "      <td>35250.000000</td>\n",
       "      <td>26700.000000</td>\n",
       "    </tr>\n",
       "    <tr>\n",
       "      <th>50%</th>\n",
       "      <td>42000.000000</td>\n",
       "      <td>31700.000000</td>\n",
       "    </tr>\n",
       "    <tr>\n",
       "      <th>75%</th>\n",
       "      <td>50600.000000</td>\n",
       "      <td>39800.000000</td>\n",
       "    </tr>\n",
       "    <tr>\n",
       "      <th>max</th>\n",
       "      <td>250000.000000</td>\n",
       "      <td>151200.000000</td>\n",
       "    </tr>\n",
       "  </tbody>\n",
       "</table>\n",
       "</div>"
      ],
      "text/plain": [
       "       MN_EARN_WNE_MALE1_P10  MN_EARN_WNE_MALE0_P10\n",
       "count            3895.000000            3895.000000\n",
       "mean            45008.600770           34744.852375\n",
       "std             17419.326723           12429.402843\n",
       "min             17900.000000           12400.000000\n",
       "25%             35250.000000           26700.000000\n",
       "50%             42000.000000           31700.000000\n",
       "75%             50600.000000           39800.000000\n",
       "max            250000.000000          151200.000000"
      ]
     },
     "execution_count": 69,
     "metadata": {},
     "output_type": "execute_result"
    }
   ],
   "source": [
    "df.loc[:,['MN_EARN_WNE_MALE1_P10','MN_EARN_WNE_MALE0_P10']].describe()"
   ]
  },
  {
   "cell_type": "code",
   "execution_count": 70,
   "metadata": {
    "collapsed": false
   },
   "outputs": [],
   "source": [
    "#We define pay gap as men's average earnings minus women's average earnings after ten years \n",
    "\n",
    "df['pay_gap'] = df.MN_EARN_WNE_MALE1_P10.astype(int) - df.MN_EARN_WNE_MALE0_P10.astype(int)"
   ]
  },
  {
   "cell_type": "code",
   "execution_count": 71,
   "metadata": {
    "collapsed": true
   },
   "outputs": [],
   "source": [
    "#Keep only relevant columns\n",
    "final_df = df.loc[:,['UNITID', 'pay_gap','Institution Name', 'Latitude location of institution (HD2015)', 'Longitude location of institution (HD2015)', 'State abbreviation (HD2015)']]"
   ]
  },
  {
   "cell_type": "code",
   "execution_count": 73,
   "metadata": {
    "collapsed": false
   },
   "outputs": [],
   "source": [
    "final_df.to_csv('college_data_cleaned.csv')"
   ]
  }
 ],
 "metadata": {
  "anaconda-cloud": {},
  "kernelspec": {
   "display_name": "Python [Root]",
   "language": "python",
   "name": "Python [Root]"
  },
  "language_info": {
   "codemirror_mode": {
    "name": "ipython",
    "version": 2
   },
   "file_extension": ".py",
   "mimetype": "text/x-python",
   "name": "python",
   "nbconvert_exporter": "python",
   "pygments_lexer": "ipython2",
   "version": "2.7.12"
  }
 },
 "nbformat": 4,
 "nbformat_minor": 0
}
